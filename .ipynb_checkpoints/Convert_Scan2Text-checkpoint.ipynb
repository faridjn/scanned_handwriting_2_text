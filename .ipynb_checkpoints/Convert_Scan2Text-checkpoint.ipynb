{
 "cells": [
  {
   "cell_type": "markdown",
   "id": "bdfb11ad",
   "metadata": {},
   "source": [
    "# Libraries"
   ]
  },
  {
   "cell_type": "code",
   "execution_count": 1,
   "id": "89d45910",
   "metadata": {},
   "outputs": [],
   "source": [
    "#import necessary libararies\n",
    "import csv\n",
    "\n",
    "import os\n",
    "import glob\n",
    "\n",
    "import cv2\n",
    "import pytesseract\n",
    "\n",
    "pytesseract.pytesseract.tesseract_cmd = '...\\\\Tesseract-OCR\\\\tesseract.exe'"
   ]
  },
  {
   "cell_type": "markdown",
   "id": "5665b531",
   "metadata": {},
   "source": [
    "# Functions"
   ]
  },
  {
   "cell_type": "code",
   "execution_count": 2,
   "id": "7e708a7d",
   "metadata": {},
   "outputs": [],
   "source": [
    "def img_resize(img, scale_percent):\n",
    "    '''\n",
    "    This function gets an image ans scale pct.\n",
    "    Returns a new image resized by the scale pct\n",
    "    '''\n",
    "    #get image width & height\n",
    "    width = int(img.shape[1] * scale_percent / 100)\n",
    "    height = int(img.shape[0] * scale_percent / 100)\n",
    "    dim = (width, height)\n",
    "\n",
    "    # resize image\n",
    "    resized = cv2.resize(img, dim, interpolation = cv2.INTER_AREA)\n",
    "\n",
    "    return resized"
   ]
  },
  {
   "cell_type": "code",
   "execution_count": 3,
   "id": "f7e0d8a2",
   "metadata": {},
   "outputs": [],
   "source": [
    "def img2txt(image_date: dict, resize_opt: list):\n",
    "    '''\n",
    "    This function gets a dictionary of all image data and the resize options\n",
    "    The resize option are percentage values to resize the images\n",
    "    The function runs the rezied through the pytesseract.image_to_string() to extract text\n",
    "    '''\n",
    "    #initiate an empty list\n",
    "    text_data = []\n",
    "\n",
    "    #ID counter\n",
    "    i = 1\n",
    "    \n",
    "    #read the dict of images\n",
    "    for k,v in image_date.items():\n",
    "\n",
    "        #pass the ID and dict.key to the new_text list\n",
    "        new_text = [i, k]\n",
    "        \n",
    "        #run for all resize option\n",
    "        for pct in resize_opt:\n",
    "            img_resized = img_resize(v,pct)\n",
    "            text_img_resized = pytesseract.image_to_string(img_resized)\n",
    "            new_text.append(text_img_resized)\n",
    "\n",
    "        #counter +1\n",
    "        i +=1\n",
    "\n",
    "        #append  the new text list to all data\n",
    "        text_data.append(new_text)\n",
    "    \n",
    "    return text_data"
   ]
  },
  {
   "cell_type": "markdown",
   "id": "015369c7",
   "metadata": {},
   "source": [
    "# Settings"
   ]
  },
  {
   "cell_type": "code",
   "execution_count": 4,
   "id": "5dd770a0",
   "metadata": {},
   "outputs": [],
   "source": [
    "#data directory \n",
    "PATH = '...\\\\PNG\\\\'\n",
    "\n",
    "#Set image resize options for scalling the images \n",
    "RESIZE_OPT = [10, 25, 40, 50, 75, 100]"
   ]
  },
  {
   "cell_type": "markdown",
   "id": "baaa111e",
   "metadata": {},
   "source": [
    "# Main"
   ]
  },
  {
   "cell_type": "markdown",
   "id": "2452a2bd",
   "metadata": {},
   "source": [
    "## Read files"
   ]
  },
  {
   "cell_type": "code",
   "execution_count": 5,
   "id": "6ebb9003",
   "metadata": {},
   "outputs": [],
   "source": [
    "# use glob to get all the pngs files in PATH folder \n",
    "png_files = glob.glob(os.path.join(PATH, \"*.png\"))\n",
    "\n",
    "#initiate a new dict to store the data\n",
    "image_date = dict()\n",
    "\n",
    "# loop over the list of csv files\n",
    "for f in png_files:\n",
    "    \n",
    "    #get file name\n",
    "    file_name = f.split(\"\\\\\")[-1]\n",
    "    \n",
    "    #read image from file\n",
    "    img = cv2.imread(f)\n",
    "    \n",
    "    #convert BGR to RGB\n",
    "    img = cv2.cvtColor(img, cv2.COLOR_BGR2RGB)\n",
    "    \n",
    "    #append to image_data\n",
    "    image_date[file_name] = img"
   ]
  },
  {
   "cell_type": "code",
   "execution_count": 6,
   "id": "5cf797c3",
   "metadata": {},
   "outputs": [
    {
     "name": "stdout",
     "output_type": "stream",
     "text": [
      "Number of images processed:  89\n"
     ]
    }
   ],
   "source": [
    "print('Number of images processed: ', len(image_date))"
   ]
  },
  {
   "cell_type": "markdown",
   "id": "8b4c2ad1",
   "metadata": {},
   "source": [
    "## Extract Text "
   ]
  },
  {
   "cell_type": "code",
   "execution_count": 7,
   "id": "fbf97fa0",
   "metadata": {},
   "outputs": [],
   "source": [
    "#Run the img2txt funtion\n",
    "text_data = img2txt(image_date, RESIZE_OPT)"
   ]
  },
  {
   "cell_type": "markdown",
   "id": "be9146c5",
   "metadata": {},
   "source": [
    "## Write results to CSV"
   ]
  },
  {
   "cell_type": "code",
   "execution_count": 8,
   "id": "e165eda9",
   "metadata": {},
   "outputs": [],
   "source": [
    "csv_file = PATH + \"TextReader.csv\"\n",
    "field_names = ['ID', 'File_Name']\n",
    "\n",
    "for pct in RESIZE_OPT:\n",
    "    field_names.append(str(pct))"
   ]
  },
  {
   "cell_type": "code",
   "execution_count": 9,
   "id": "87f174bf",
   "metadata": {},
   "outputs": [],
   "source": [
    "with open(csv_file, 'w') as f:\n",
    "      \n",
    "    # using csv.writer method from CSV package\n",
    "    write = csv.writer(f)\n",
    "    write.writerow(field_names)\n",
    "    write.writerows(text_data)"
   ]
  },
  {
   "cell_type": "code",
   "execution_count": 10,
   "id": "aabd0d17",
   "metadata": {},
   "outputs": [
    {
     "name": "stdout",
     "output_type": "stream",
     "text": [
      "File successfully generated!\n"
     ]
    }
   ],
   "source": [
    "print('File successfully generated!')"
   ]
  },
  {
   "cell_type": "code",
   "execution_count": null,
   "id": "41df654c",
   "metadata": {},
   "outputs": [],
   "source": []
  }
 ],
 "metadata": {
  "kernelspec": {
   "display_name": "Python 3 (ipykernel)",
   "language": "python",
   "name": "python3"
  },
  "language_info": {
   "codemirror_mode": {
    "name": "ipython",
    "version": 3
   },
   "file_extension": ".py",
   "mimetype": "text/x-python",
   "name": "python",
   "nbconvert_exporter": "python",
   "pygments_lexer": "ipython3",
   "version": "3.9.15"
  }
 },
 "nbformat": 4,
 "nbformat_minor": 5
}
